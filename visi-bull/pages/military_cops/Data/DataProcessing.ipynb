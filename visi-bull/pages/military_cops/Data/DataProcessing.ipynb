{
 "metadata": {
  "name": "",
  "signature": "sha256:9093d011466db11b5de2bef9807d05cd8386f5ba701da238d1cf69dd86785265"
 },
 "nbformat": 3,
 "nbformat_minor": 0,
 "worksheets": [
  {
   "cells": [
    {
     "cell_type": "code",
     "collapsed": false,
     "input": [
      "import numpy as np\n",
      "import pandas as pd"
     ],
     "language": "python",
     "metadata": {},
     "outputs": [],
     "prompt_number": 91
    },
    {
     "cell_type": "heading",
     "level": 1,
     "metadata": {},
     "source": [
      "Extract And Process Data"
     ]
    },
    {
     "cell_type": "heading",
     "level": 3,
     "metadata": {},
     "source": [
      "Extracting Data"
     ]
    },
    {
     "cell_type": "markdown",
     "metadata": {},
     "source": [
      "First download the data from https://github.com/TheUpshot/Military-Surplus-Gear, and save it into the same directory as this noteboook."
     ]
    },
    {
     "cell_type": "code",
     "collapsed": false,
     "input": [
      "df = pd.read_csv('1033-program-foia-may-2014.csv', sep=',', parse_dates=['Ship Date'], dayfirst=False)  # Ship Date is an American date.\n",
      "df.head()"
     ],
     "language": "python",
     "metadata": {},
     "outputs": [
      {
       "html": [
        "<div style=\"max-height:1000px;max-width:1500px;overflow:auto;\">\n",
        "<table border=\"1\" class=\"dataframe\">\n",
        "  <thead>\n",
        "    <tr style=\"text-align: right;\">\n",
        "      <th></th>\n",
        "      <th>State</th>\n",
        "      <th>County</th>\n",
        "      <th>NSN</th>\n",
        "      <th>Item Name</th>\n",
        "      <th>Quantity</th>\n",
        "      <th>UI</th>\n",
        "      <th>Acquisition Cost</th>\n",
        "      <th>Ship Date</th>\n",
        "    </tr>\n",
        "  </thead>\n",
        "  <tbody>\n",
        "    <tr>\n",
        "      <th>0</th>\n",
        "      <td> AK</td>\n",
        "      <td> ANCHORAGE</td>\n",
        "      <td> 1005-00-073-9421</td>\n",
        "      <td> RIFLE,5.56 MILLIMETER</td>\n",
        "      <td> 1</td>\n",
        "      <td> Each</td>\n",
        "      <td> 499</td>\n",
        "      <td>2012-08-30</td>\n",
        "    </tr>\n",
        "    <tr>\n",
        "      <th>1</th>\n",
        "      <td> AK</td>\n",
        "      <td> ANCHORAGE</td>\n",
        "      <td> 1005-00-073-9421</td>\n",
        "      <td> RIFLE,5.56 MILLIMETER</td>\n",
        "      <td> 1</td>\n",
        "      <td> Each</td>\n",
        "      <td> 499</td>\n",
        "      <td>2012-08-30</td>\n",
        "    </tr>\n",
        "    <tr>\n",
        "      <th>2</th>\n",
        "      <td> AK</td>\n",
        "      <td> ANCHORAGE</td>\n",
        "      <td> 1005-00-073-9421</td>\n",
        "      <td> RIFLE,5.56 MILLIMETER</td>\n",
        "      <td> 1</td>\n",
        "      <td> Each</td>\n",
        "      <td> 499</td>\n",
        "      <td>2012-08-30</td>\n",
        "    </tr>\n",
        "    <tr>\n",
        "      <th>3</th>\n",
        "      <td> AK</td>\n",
        "      <td> ANCHORAGE</td>\n",
        "      <td> 1005-00-073-9421</td>\n",
        "      <td> RIFLE,5.56 MILLIMETER</td>\n",
        "      <td> 1</td>\n",
        "      <td> Each</td>\n",
        "      <td> 499</td>\n",
        "      <td>2012-08-30</td>\n",
        "    </tr>\n",
        "    <tr>\n",
        "      <th>4</th>\n",
        "      <td> AK</td>\n",
        "      <td> ANCHORAGE</td>\n",
        "      <td> 1005-00-073-9421</td>\n",
        "      <td> RIFLE,5.56 MILLIMETER</td>\n",
        "      <td> 1</td>\n",
        "      <td> Each</td>\n",
        "      <td> 499</td>\n",
        "      <td>2012-08-30</td>\n",
        "    </tr>\n",
        "  </tbody>\n",
        "</table>\n",
        "</div>"
       ],
       "metadata": {},
       "output_type": "pyout",
       "prompt_number": 79,
       "text": [
        "  State     County               NSN              Item Name  Quantity    UI  \\\n",
        "0    AK  ANCHORAGE  1005-00-073-9421  RIFLE,5.56 MILLIMETER         1  Each   \n",
        "1    AK  ANCHORAGE  1005-00-073-9421  RIFLE,5.56 MILLIMETER         1  Each   \n",
        "2    AK  ANCHORAGE  1005-00-073-9421  RIFLE,5.56 MILLIMETER         1  Each   \n",
        "3    AK  ANCHORAGE  1005-00-073-9421  RIFLE,5.56 MILLIMETER         1  Each   \n",
        "4    AK  ANCHORAGE  1005-00-073-9421  RIFLE,5.56 MILLIMETER         1  Each   \n",
        "\n",
        "   Acquisition Cost  Ship Date  \n",
        "0               499 2012-08-30  \n",
        "1               499 2012-08-30  \n",
        "2               499 2012-08-30  \n",
        "3               499 2012-08-30  \n",
        "4               499 2012-08-30  "
       ]
      }
     ],
     "prompt_number": 79
    },
    {
     "cell_type": "code",
     "collapsed": false,
     "input": [
      "df.describe(include='all')  # Use include='all' to show both numeric and object (categorical) types."
     ],
     "language": "python",
     "metadata": {},
     "outputs": [
      {
       "html": [
        "<div style=\"max-height:1000px;max-width:1500px;overflow:auto;\">\n",
        "<table border=\"1\" class=\"dataframe\">\n",
        "  <thead>\n",
        "    <tr style=\"text-align: right;\">\n",
        "      <th></th>\n",
        "      <th>State</th>\n",
        "      <th>County</th>\n",
        "      <th>NSN</th>\n",
        "      <th>Item Name</th>\n",
        "      <th>Quantity</th>\n",
        "      <th>UI</th>\n",
        "      <th>Acquisition Cost</th>\n",
        "      <th>Ship Date</th>\n",
        "    </tr>\n",
        "  </thead>\n",
        "  <tbody>\n",
        "    <tr>\n",
        "      <th>count</th>\n",
        "      <td> 243492</td>\n",
        "      <td>      243422</td>\n",
        "      <td>           243309</td>\n",
        "      <td>                239658</td>\n",
        "      <td> 243492.000000</td>\n",
        "      <td> 243491</td>\n",
        "      <td>   243492.000000</td>\n",
        "      <td>              243492</td>\n",
        "    </tr>\n",
        "    <tr>\n",
        "      <th>unique</th>\n",
        "      <td>     54</td>\n",
        "      <td>        1577</td>\n",
        "      <td>            30706</td>\n",
        "      <td>                 18202</td>\n",
        "      <td>           NaN</td>\n",
        "      <td>    107</td>\n",
        "      <td>             NaN</td>\n",
        "      <td>                2870</td>\n",
        "    </tr>\n",
        "    <tr>\n",
        "      <th>top</th>\n",
        "      <td>     CA</td>\n",
        "      <td> LOS ANGELES</td>\n",
        "      <td> 1005-00-073-9421</td>\n",
        "      <td> RIFLE,5.56 MILLIMETER</td>\n",
        "      <td>           NaN</td>\n",
        "      <td>   Each</td>\n",
        "      <td>             NaN</td>\n",
        "      <td> 2012-04-20 00:00:00</td>\n",
        "    </tr>\n",
        "    <tr>\n",
        "      <th>freq</th>\n",
        "      <td>  25379</td>\n",
        "      <td>        7326</td>\n",
        "      <td>            43180</td>\n",
        "      <td>                 61548</td>\n",
        "      <td>           NaN</td>\n",
        "      <td> 220148</td>\n",
        "      <td>             NaN</td>\n",
        "      <td>                2942</td>\n",
        "    </tr>\n",
        "    <tr>\n",
        "      <th>first</th>\n",
        "      <td>    NaN</td>\n",
        "      <td>         NaN</td>\n",
        "      <td>              NaN</td>\n",
        "      <td>                   NaN</td>\n",
        "      <td>           NaN</td>\n",
        "      <td>    NaN</td>\n",
        "      <td>             NaN</td>\n",
        "      <td> 2006-01-06 00:00:00</td>\n",
        "    </tr>\n",
        "    <tr>\n",
        "      <th>last</th>\n",
        "      <td>    NaN</td>\n",
        "      <td>         NaN</td>\n",
        "      <td>              NaN</td>\n",
        "      <td>                   NaN</td>\n",
        "      <td>           NaN</td>\n",
        "      <td>    NaN</td>\n",
        "      <td>             NaN</td>\n",
        "      <td> 2014-09-09 00:00:00</td>\n",
        "    </tr>\n",
        "    <tr>\n",
        "      <th>mean</th>\n",
        "      <td>    NaN</td>\n",
        "      <td>         NaN</td>\n",
        "      <td>              NaN</td>\n",
        "      <td>                   NaN</td>\n",
        "      <td>     11.289784</td>\n",
        "      <td>    NaN</td>\n",
        "      <td>     6181.218025</td>\n",
        "      <td>                 NaN</td>\n",
        "    </tr>\n",
        "    <tr>\n",
        "      <th>std</th>\n",
        "      <td>    NaN</td>\n",
        "      <td>         NaN</td>\n",
        "      <td>              NaN</td>\n",
        "      <td>                   NaN</td>\n",
        "      <td>    242.904563</td>\n",
        "      <td>    NaN</td>\n",
        "      <td>   115278.044069</td>\n",
        "      <td>                 NaN</td>\n",
        "    </tr>\n",
        "    <tr>\n",
        "      <th>min</th>\n",
        "      <td>    NaN</td>\n",
        "      <td>         NaN</td>\n",
        "      <td>              NaN</td>\n",
        "      <td>                   NaN</td>\n",
        "      <td>      1.000000</td>\n",
        "      <td>    NaN</td>\n",
        "      <td>        0.000000</td>\n",
        "      <td>                 NaN</td>\n",
        "    </tr>\n",
        "    <tr>\n",
        "      <th>25%</th>\n",
        "      <td>    NaN</td>\n",
        "      <td>         NaN</td>\n",
        "      <td>              NaN</td>\n",
        "      <td>                   NaN</td>\n",
        "      <td>      1.000000</td>\n",
        "      <td>    NaN</td>\n",
        "      <td>       60.450000</td>\n",
        "      <td>                 NaN</td>\n",
        "    </tr>\n",
        "    <tr>\n",
        "      <th>50%</th>\n",
        "      <td>    NaN</td>\n",
        "      <td>         NaN</td>\n",
        "      <td>              NaN</td>\n",
        "      <td>                   NaN</td>\n",
        "      <td>      1.000000</td>\n",
        "      <td>    NaN</td>\n",
        "      <td>      200.000000</td>\n",
        "      <td>                 NaN</td>\n",
        "    </tr>\n",
        "    <tr>\n",
        "      <th>75%</th>\n",
        "      <td>    NaN</td>\n",
        "      <td>         NaN</td>\n",
        "      <td>              NaN</td>\n",
        "      <td>                   NaN</td>\n",
        "      <td>      4.000000</td>\n",
        "      <td>    NaN</td>\n",
        "      <td>      499.000000</td>\n",
        "      <td>                 NaN</td>\n",
        "    </tr>\n",
        "    <tr>\n",
        "      <th>max</th>\n",
        "      <td>    NaN</td>\n",
        "      <td>         NaN</td>\n",
        "      <td>              NaN</td>\n",
        "      <td>                   NaN</td>\n",
        "      <td>  91000.000000</td>\n",
        "      <td>    NaN</td>\n",
        "      <td> 18000000.000000</td>\n",
        "      <td>                 NaN</td>\n",
        "    </tr>\n",
        "  </tbody>\n",
        "</table>\n",
        "</div>"
       ],
       "metadata": {},
       "output_type": "pyout",
       "prompt_number": 80,
       "text": [
        "         State       County               NSN              Item Name  \\\n",
        "count   243492       243422            243309                 239658   \n",
        "unique      54         1577             30706                  18202   \n",
        "top         CA  LOS ANGELES  1005-00-073-9421  RIFLE,5.56 MILLIMETER   \n",
        "freq     25379         7326             43180                  61548   \n",
        "first      NaN          NaN               NaN                    NaN   \n",
        "last       NaN          NaN               NaN                    NaN   \n",
        "mean       NaN          NaN               NaN                    NaN   \n",
        "std        NaN          NaN               NaN                    NaN   \n",
        "min        NaN          NaN               NaN                    NaN   \n",
        "25%        NaN          NaN               NaN                    NaN   \n",
        "50%        NaN          NaN               NaN                    NaN   \n",
        "75%        NaN          NaN               NaN                    NaN   \n",
        "max        NaN          NaN               NaN                    NaN   \n",
        "\n",
        "             Quantity      UI  Acquisition Cost            Ship Date  \n",
        "count   243492.000000  243491     243492.000000               243492  \n",
        "unique            NaN     107               NaN                 2870  \n",
        "top               NaN    Each               NaN  2012-04-20 00:00:00  \n",
        "freq              NaN  220148               NaN                 2942  \n",
        "first             NaN     NaN               NaN  2006-01-06 00:00:00  \n",
        "last              NaN     NaN               NaN  2014-09-09 00:00:00  \n",
        "mean        11.289784     NaN       6181.218025                  NaN  \n",
        "std        242.904563     NaN     115278.044069                  NaN  \n",
        "min          1.000000     NaN          0.000000                  NaN  \n",
        "25%          1.000000     NaN         60.450000                  NaN  \n",
        "50%          1.000000     NaN        200.000000                  NaN  \n",
        "75%          4.000000     NaN        499.000000                  NaN  \n",
        "max      91000.000000     NaN   18000000.000000                  NaN  "
       ]
      }
     ],
     "prompt_number": 80
    },
    {
     "cell_type": "markdown",
     "metadata": {},
     "source": [
      "One immediate problem can be seen: there aren't 54 states."
     ]
    },
    {
     "cell_type": "heading",
     "level": 3,
     "metadata": {},
     "source": [
      "Checking State Data"
     ]
    },
    {
     "cell_type": "markdown",
     "metadata": {},
     "source": [
      "First lets correct the state codes (if we need to)."
     ]
    },
    {
     "cell_type": "code",
     "collapsed": false,
     "input": [
      "# Get the unique state codes from the arms sales file.\n",
      "uniqueStates = pd.unique(df.loc[:, 'State'])\n",
      "uniqueStates = pd.DataFrame(uniqueStates, columns=['Code'])\n",
      "uniqueStates.head()"
     ],
     "language": "python",
     "metadata": {},
     "outputs": [
      {
       "html": [
        "<div style=\"max-height:1000px;max-width:1500px;overflow:auto;\">\n",
        "<table border=\"1\" class=\"dataframe\">\n",
        "  <thead>\n",
        "    <tr style=\"text-align: right;\">\n",
        "      <th></th>\n",
        "      <th>Code</th>\n",
        "    </tr>\n",
        "  </thead>\n",
        "  <tbody>\n",
        "    <tr>\n",
        "      <th>0</th>\n",
        "      <td> AK</td>\n",
        "    </tr>\n",
        "    <tr>\n",
        "      <th>1</th>\n",
        "      <td> AL</td>\n",
        "    </tr>\n",
        "    <tr>\n",
        "      <th>2</th>\n",
        "      <td> AR</td>\n",
        "    </tr>\n",
        "    <tr>\n",
        "      <th>3</th>\n",
        "      <td> AZ</td>\n",
        "    </tr>\n",
        "    <tr>\n",
        "      <th>4</th>\n",
        "      <td> CA</td>\n",
        "    </tr>\n",
        "  </tbody>\n",
        "</table>\n",
        "</div>"
       ],
       "metadata": {},
       "output_type": "pyout",
       "prompt_number": 81,
       "text": [
        "  Code\n",
        "0   AK\n",
        "1   AL\n",
        "2   AR\n",
        "3   AZ\n",
        "4   CA"
       ]
      }
     ],
     "prompt_number": 81
    },
    {
     "cell_type": "code",
     "collapsed": false,
     "input": [
      "# Get the valid codes from a list of valid state abbreviations.\n",
      "validStates = pd.read_csv('StateCodes.tsv', sep='\\t', header=None, names=['State', 'Code'])\n",
      "validStates.head()"
     ],
     "language": "python",
     "metadata": {},
     "outputs": [
      {
       "html": [
        "<div style=\"max-height:1000px;max-width:1500px;overflow:auto;\">\n",
        "<table border=\"1\" class=\"dataframe\">\n",
        "  <thead>\n",
        "    <tr style=\"text-align: right;\">\n",
        "      <th></th>\n",
        "      <th>State</th>\n",
        "      <th>Code</th>\n",
        "    </tr>\n",
        "  </thead>\n",
        "  <tbody>\n",
        "    <tr>\n",
        "      <th>0</th>\n",
        "      <td>    Alabama</td>\n",
        "      <td> AL</td>\n",
        "    </tr>\n",
        "    <tr>\n",
        "      <th>1</th>\n",
        "      <td>     Alaska</td>\n",
        "      <td> AK</td>\n",
        "    </tr>\n",
        "    <tr>\n",
        "      <th>2</th>\n",
        "      <td>    Arizona</td>\n",
        "      <td> AZ</td>\n",
        "    </tr>\n",
        "    <tr>\n",
        "      <th>3</th>\n",
        "      <td>   Arkansas</td>\n",
        "      <td> AR</td>\n",
        "    </tr>\n",
        "    <tr>\n",
        "      <th>4</th>\n",
        "      <td> California</td>\n",
        "      <td> CA</td>\n",
        "    </tr>\n",
        "  </tbody>\n",
        "</table>\n",
        "</div>"
       ],
       "metadata": {},
       "output_type": "pyout",
       "prompt_number": 82,
       "text": [
        "        State Code\n",
        "0     Alabama   AL\n",
        "1      Alaska   AK\n",
        "2     Arizona   AZ\n",
        "3    Arkansas   AR\n",
        "4  California   CA"
       ]
      }
     ],
     "prompt_number": 82
    },
    {
     "cell_type": "code",
     "collapsed": false,
     "input": [
      "# Get the codes of the states that are not in the 50. The ~ inverts the boolea array.\n",
      "invalidStates = uniqueStates[~uniqueStates.loc[:, 'Code'].isin(validStates.loc[:, 'Code'])]\n",
      "invalidStates"
     ],
     "language": "python",
     "metadata": {},
     "outputs": [
      {
       "html": [
        "<div style=\"max-height:1000px;max-width:1500px;overflow:auto;\">\n",
        "<table border=\"1\" class=\"dataframe\">\n",
        "  <thead>\n",
        "    <tr style=\"text-align: right;\">\n",
        "      <th></th>\n",
        "      <th>Code</th>\n",
        "    </tr>\n",
        "  </thead>\n",
        "  <tbody>\n",
        "    <tr>\n",
        "      <th>7 </th>\n",
        "      <td> DC</td>\n",
        "    </tr>\n",
        "    <tr>\n",
        "      <th>11</th>\n",
        "      <td> GU</td>\n",
        "    </tr>\n",
        "    <tr>\n",
        "      <th>40</th>\n",
        "      <td> PR</td>\n",
        "    </tr>\n",
        "    <tr>\n",
        "      <th>48</th>\n",
        "      <td> VI</td>\n",
        "    </tr>\n",
        "  </tbody>\n",
        "</table>\n",
        "</div>"
       ],
       "metadata": {},
       "output_type": "pyout",
       "prompt_number": 83,
       "text": [
        "   Code\n",
        "7    DC\n",
        "11   GU\n",
        "40   PR\n",
        "48   VI"
       ]
      }
     ],
     "prompt_number": 83
    },
    {
     "cell_type": "markdown",
     "metadata": {},
     "source": [
      "<p>We can see that the codes of states not in the usual 50 are:</p>\n",
      "<ul>\n",
      "    <li>DC - District of Columbia</li>\n",
      "    <li>GU - Guam</li>\n",
      "    <li>PR - Puerto Rico</li>\n",
      "    <li>VI - Virgin Islands</li>\n",
      "</ul>\n",
      "<p>All codes are perfectly valid for US territories, but may need to be discounted for some analyses (e.g. mapping over the contiguous US).</p>"
     ]
    },
    {
     "cell_type": "markdown",
     "metadata": {},
     "source": [
      "Now we'll augment the dataframe with the state that each code corresponds to."
     ]
    },
    {
     "cell_type": "code",
     "collapsed": false,
     "input": [
      "df.rename(columns={'State': 'TerritoryCode'}, inplace=True)  # Rename the column containing the abbreviation of the 'state'."
     ],
     "language": "python",
     "metadata": {},
     "outputs": [],
     "prompt_number": 84
    },
    {
     "cell_type": "markdown",
     "metadata": {},
     "source": [
      "The conversion of codes to state names can be performed using <a href=\"http://pandas.pydata.org/pandas-docs/stable/generated/pandas.Series.map.html#pandas.Series.map\">Series.map</a>. Series.map acts elementwise, and can take either a function, dict or series as input. Assuming we have a dictionary mapping territory codes to names, we could generate the column of territory names using df.loc[:, 'TerritoryCode'].map(lambda x : conversionDict[x]) or df.loc[:, 'TerritoryCode'].map(conversionDict). However, as we've already read in the file of state names into a dataframe, we might as well use Series.map's ability to take a series as input."
     ]
    },
    {
     "cell_type": "code",
     "collapsed": false,
     "input": [
      "# Add the four territories that are not states in their own right.\n",
      "territoriesToAdd = [{'Code' : 'DC', 'State' : 'Washington DC'},\n",
      "                    {'Code' : 'GU', 'State' : 'Guam'},\n",
      "                    {'Code' : 'PR', 'State' : 'Puerto Rico'},\n",
      "                    {'Code' : 'VI', 'State' : 'Virgin Islands'}]\n",
      "validStates = validStates.append(territoriesToAdd, ignore_index=True)  # Adding rows using a list of dicts will cause the new rows to start\n",
      "                                                                       # with index 0, and therefore gives you duplicate indices.\n",
      "                                                                       # Using ignore_index=True prevents this.\n",
      "print(validStates.tail())\n",
      "\n",
      "# Convert the index of the validStates dataframe to be the territory codes, this is necessary for the mapping to work.\n",
      "territoryMapping = validStates.set_index('Code')\n",
      "territoryMapping.index.name = None  # Remove the name of the index.\n",
      "territoryMapping = territoryMapping.loc[:, 'State']  # Convert the territory mapping to a series to work with Series.map.\n",
      "\n",
      "# Create the new series by mapping codes to territories.\n",
      "territoryNames = df.loc[:, 'TerritoryCode'].map(territoryMapping)\n",
      "\n",
      "# Add the new series to the dataframe.\n",
      "df.insert(0, 'TerritoryName', territoryNames)\n",
      "df.head()"
     ],
     "language": "python",
     "metadata": {},
     "outputs": [
      {
       "output_type": "stream",
       "stream": "stdout",
       "text": [
        "             State Code\n",
        "49         Wyoming   WY\n",
        "50   Washington DC   DC\n",
        "51            Guam   GU\n",
        "52     Puerto Rico   PR\n",
        "53  Virgin Islands   VI\n"
       ]
      },
      {
       "html": [
        "<div style=\"max-height:1000px;max-width:1500px;overflow:auto;\">\n",
        "<table border=\"1\" class=\"dataframe\">\n",
        "  <thead>\n",
        "    <tr style=\"text-align: right;\">\n",
        "      <th></th>\n",
        "      <th>TerritoryName</th>\n",
        "      <th>TerritoryCode</th>\n",
        "      <th>County</th>\n",
        "      <th>NSN</th>\n",
        "      <th>Item Name</th>\n",
        "      <th>Quantity</th>\n",
        "      <th>UI</th>\n",
        "      <th>Acquisition Cost</th>\n",
        "      <th>Ship Date</th>\n",
        "    </tr>\n",
        "  </thead>\n",
        "  <tbody>\n",
        "    <tr>\n",
        "      <th>0</th>\n",
        "      <td> Alaska</td>\n",
        "      <td> AK</td>\n",
        "      <td> ANCHORAGE</td>\n",
        "      <td> 1005-00-073-9421</td>\n",
        "      <td> RIFLE,5.56 MILLIMETER</td>\n",
        "      <td> 1</td>\n",
        "      <td> Each</td>\n",
        "      <td> 499</td>\n",
        "      <td>2012-08-30</td>\n",
        "    </tr>\n",
        "    <tr>\n",
        "      <th>1</th>\n",
        "      <td> Alaska</td>\n",
        "      <td> AK</td>\n",
        "      <td> ANCHORAGE</td>\n",
        "      <td> 1005-00-073-9421</td>\n",
        "      <td> RIFLE,5.56 MILLIMETER</td>\n",
        "      <td> 1</td>\n",
        "      <td> Each</td>\n",
        "      <td> 499</td>\n",
        "      <td>2012-08-30</td>\n",
        "    </tr>\n",
        "    <tr>\n",
        "      <th>2</th>\n",
        "      <td> Alaska</td>\n",
        "      <td> AK</td>\n",
        "      <td> ANCHORAGE</td>\n",
        "      <td> 1005-00-073-9421</td>\n",
        "      <td> RIFLE,5.56 MILLIMETER</td>\n",
        "      <td> 1</td>\n",
        "      <td> Each</td>\n",
        "      <td> 499</td>\n",
        "      <td>2012-08-30</td>\n",
        "    </tr>\n",
        "    <tr>\n",
        "      <th>3</th>\n",
        "      <td> Alaska</td>\n",
        "      <td> AK</td>\n",
        "      <td> ANCHORAGE</td>\n",
        "      <td> 1005-00-073-9421</td>\n",
        "      <td> RIFLE,5.56 MILLIMETER</td>\n",
        "      <td> 1</td>\n",
        "      <td> Each</td>\n",
        "      <td> 499</td>\n",
        "      <td>2012-08-30</td>\n",
        "    </tr>\n",
        "    <tr>\n",
        "      <th>4</th>\n",
        "      <td> Alaska</td>\n",
        "      <td> AK</td>\n",
        "      <td> ANCHORAGE</td>\n",
        "      <td> 1005-00-073-9421</td>\n",
        "      <td> RIFLE,5.56 MILLIMETER</td>\n",
        "      <td> 1</td>\n",
        "      <td> Each</td>\n",
        "      <td> 499</td>\n",
        "      <td>2012-08-30</td>\n",
        "    </tr>\n",
        "  </tbody>\n",
        "</table>\n",
        "</div>"
       ],
       "metadata": {},
       "output_type": "pyout",
       "prompt_number": 85,
       "text": [
        "  TerritoryName TerritoryCode     County               NSN  \\\n",
        "0        Alaska            AK  ANCHORAGE  1005-00-073-9421   \n",
        "1        Alaska            AK  ANCHORAGE  1005-00-073-9421   \n",
        "2        Alaska            AK  ANCHORAGE  1005-00-073-9421   \n",
        "3        Alaska            AK  ANCHORAGE  1005-00-073-9421   \n",
        "4        Alaska            AK  ANCHORAGE  1005-00-073-9421   \n",
        "\n",
        "               Item Name  Quantity    UI  Acquisition Cost  Ship Date  \n",
        "0  RIFLE,5.56 MILLIMETER         1  Each               499 2012-08-30  \n",
        "1  RIFLE,5.56 MILLIMETER         1  Each               499 2012-08-30  \n",
        "2  RIFLE,5.56 MILLIMETER         1  Each               499 2012-08-30  \n",
        "3  RIFLE,5.56 MILLIMETER         1  Each               499 2012-08-30  \n",
        "4  RIFLE,5.56 MILLIMETER         1  Each               499 2012-08-30  "
       ]
      }
     ],
     "prompt_number": 85
    },
    {
     "cell_type": "heading",
     "level": 3,
     "metadata": {},
     "source": [
      "Checking for NaNs"
     ]
    },
    {
     "cell_type": "code",
     "collapsed": false,
     "input": [
      "columnNaNCounts = len(df) - df.count()\n",
      "print('Total number of data points: {0}\\nTotal number of NaNs {1}.'.format(len(df), columnNaNCounts.sum()))\n",
      "columnNaNCounts"
     ],
     "language": "python",
     "metadata": {},
     "outputs": [
      {
       "output_type": "stream",
       "stream": "stdout",
       "text": [
        "Total number of data points: 243492\n",
        "Total number of NaNs 4088.\n"
       ]
      },
      {
       "metadata": {},
       "output_type": "pyout",
       "prompt_number": 100,
       "text": [
        "TerritoryName          0\n",
        "TerritoryCode          0\n",
        "County                70\n",
        "NSN                  183\n",
        "Item Name           3834\n",
        "Quantity               0\n",
        "UI                     1\n",
        "Acquisition Cost       0\n",
        "Ship Date              0\n",
        "dtype: int64"
       ]
      }
     ],
     "prompt_number": 100
    },
    {
     "cell_type": "markdown",
     "metadata": {},
     "source": [
      "<p>The only columns missing values are the county, National Stock Number (NSN), item name and UI.</p>\n",
      "<p>Let's see how much overlap there is between the rows with missing values.</p>"
     ]
    },
    {
     "cell_type": "code",
     "collapsed": false,
     "input": [
      "rowsWithNaNs = df[df.count(axis=1) < 9]\n",
      "print('Number of rows with NaNs: {0}.\\nNumber of rows with multiple NaNs {1}.'.format(len(rowsWithNaNs), len(df[df.count(axis=1) < 8])))"
     ],
     "language": "python",
     "metadata": {},
     "outputs": [
      {
       "output_type": "stream",
       "stream": "stdout",
       "text": [
        "Number of rows with NaNs: 4083.\n",
        "Number of rows with multiple NaNs 5.\n"
       ]
      }
     ],
     "prompt_number": 102
    },
    {
     "cell_type": "markdown",
     "metadata": {},
     "source": [
      "Let's see if there's any territory or county that is particularly prevelant with the NaNs."
     ]
    },
    {
     "cell_type": "code",
     "collapsed": false,
     "input": [],
     "language": "python",
     "metadata": {},
     "outputs": []
    },
    {
     "cell_type": "heading",
     "level": 3,
     "metadata": {},
     "source": [
      "Checking the UI and Quantity"
     ]
    },
    {
     "cell_type": "markdown",
     "metadata": {},
     "source": [
      "Some indicate hundreds so the quantity needsto be changed"
     ]
    },
    {
     "cell_type": "heading",
     "level": 3,
     "metadata": {},
     "source": [
      "Checking for Outliers"
     ]
    },
    {
     "cell_type": "markdown",
     "metadata": {},
     "source": [
      "Looking at Cost and Quantity and UI to determine"
     ]
    }
   ],
   "metadata": {}
  }
 ]
}