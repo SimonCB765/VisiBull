{
 "metadata": {
  "name": "",
  "signature": "sha256:31453bac8543053c188c9642cde6f3700829c3b8198d513d58a10f3032c985da"
 },
 "nbformat": 3,
 "nbformat_minor": 0,
 "worksheets": [
  {
   "cells": [
    {
     "cell_type": "code",
     "collapsed": false,
     "input": [
      "import numpy as np\n",
      "import pandas as pd"
     ],
     "language": "python",
     "metadata": {},
     "outputs": [],
     "prompt_number": 40
    },
    {
     "cell_type": "heading",
     "level": 1,
     "metadata": {},
     "source": [
      "Extract And Process Data"
     ]
    },
    {
     "cell_type": "heading",
     "level": 3,
     "metadata": {},
     "source": [
      "Extracting Data"
     ]
    },
    {
     "cell_type": "markdown",
     "metadata": {},
     "source": [
      "First download the data from https://github.com/TheUpshot/Military-Surplus-Gear, and save it into the same directory as this noteboook."
     ]
    },
    {
     "cell_type": "code",
     "collapsed": false,
     "input": [
      "df = pd.read_csv('1033-program-foia-may-2014.csv', sep=',', parse_dates=['Ship Date'], dayfirst=False)  # Ship Date is an American date.\n",
      "df.head()"
     ],
     "language": "python",
     "metadata": {},
     "outputs": [
      {
       "html": [
        "<div style=\"max-height:1000px;max-width:1500px;overflow:auto;\">\n",
        "<table border=\"1\" class=\"dataframe\">\n",
        "  <thead>\n",
        "    <tr style=\"text-align: right;\">\n",
        "      <th></th>\n",
        "      <th>State</th>\n",
        "      <th>County</th>\n",
        "      <th>NSN</th>\n",
        "      <th>Item Name</th>\n",
        "      <th>Quantity</th>\n",
        "      <th>UI</th>\n",
        "      <th>Acquisition Cost</th>\n",
        "      <th>Ship Date</th>\n",
        "    </tr>\n",
        "  </thead>\n",
        "  <tbody>\n",
        "    <tr>\n",
        "      <th>0</th>\n",
        "      <td> AK</td>\n",
        "      <td> ANCHORAGE</td>\n",
        "      <td> 1005-00-073-9421</td>\n",
        "      <td> RIFLE,5.56 MILLIMETER</td>\n",
        "      <td> 1</td>\n",
        "      <td> Each</td>\n",
        "      <td> 499</td>\n",
        "      <td>2012-08-30</td>\n",
        "    </tr>\n",
        "    <tr>\n",
        "      <th>1</th>\n",
        "      <td> AK</td>\n",
        "      <td> ANCHORAGE</td>\n",
        "      <td> 1005-00-073-9421</td>\n",
        "      <td> RIFLE,5.56 MILLIMETER</td>\n",
        "      <td> 1</td>\n",
        "      <td> Each</td>\n",
        "      <td> 499</td>\n",
        "      <td>2012-08-30</td>\n",
        "    </tr>\n",
        "    <tr>\n",
        "      <th>2</th>\n",
        "      <td> AK</td>\n",
        "      <td> ANCHORAGE</td>\n",
        "      <td> 1005-00-073-9421</td>\n",
        "      <td> RIFLE,5.56 MILLIMETER</td>\n",
        "      <td> 1</td>\n",
        "      <td> Each</td>\n",
        "      <td> 499</td>\n",
        "      <td>2012-08-30</td>\n",
        "    </tr>\n",
        "    <tr>\n",
        "      <th>3</th>\n",
        "      <td> AK</td>\n",
        "      <td> ANCHORAGE</td>\n",
        "      <td> 1005-00-073-9421</td>\n",
        "      <td> RIFLE,5.56 MILLIMETER</td>\n",
        "      <td> 1</td>\n",
        "      <td> Each</td>\n",
        "      <td> 499</td>\n",
        "      <td>2012-08-30</td>\n",
        "    </tr>\n",
        "    <tr>\n",
        "      <th>4</th>\n",
        "      <td> AK</td>\n",
        "      <td> ANCHORAGE</td>\n",
        "      <td> 1005-00-073-9421</td>\n",
        "      <td> RIFLE,5.56 MILLIMETER</td>\n",
        "      <td> 1</td>\n",
        "      <td> Each</td>\n",
        "      <td> 499</td>\n",
        "      <td>2012-08-30</td>\n",
        "    </tr>\n",
        "  </tbody>\n",
        "</table>\n",
        "</div>"
       ],
       "metadata": {},
       "output_type": "pyout",
       "prompt_number": 41,
       "text": [
        "  State     County               NSN              Item Name  Quantity    UI  \\\n",
        "0    AK  ANCHORAGE  1005-00-073-9421  RIFLE,5.56 MILLIMETER         1  Each   \n",
        "1    AK  ANCHORAGE  1005-00-073-9421  RIFLE,5.56 MILLIMETER         1  Each   \n",
        "2    AK  ANCHORAGE  1005-00-073-9421  RIFLE,5.56 MILLIMETER         1  Each   \n",
        "3    AK  ANCHORAGE  1005-00-073-9421  RIFLE,5.56 MILLIMETER         1  Each   \n",
        "4    AK  ANCHORAGE  1005-00-073-9421  RIFLE,5.56 MILLIMETER         1  Each   \n",
        "\n",
        "   Acquisition Cost  Ship Date  \n",
        "0               499 2012-08-30  \n",
        "1               499 2012-08-30  \n",
        "2               499 2012-08-30  \n",
        "3               499 2012-08-30  \n",
        "4               499 2012-08-30  "
       ]
      }
     ],
     "prompt_number": 41
    },
    {
     "cell_type": "code",
     "collapsed": false,
     "input": [
      "df.describe(include='all')  # Use include='all' to show both numeric and object (categorical) types."
     ],
     "language": "python",
     "metadata": {},
     "outputs": [
      {
       "html": [
        "<div style=\"max-height:1000px;max-width:1500px;overflow:auto;\">\n",
        "<table border=\"1\" class=\"dataframe\">\n",
        "  <thead>\n",
        "    <tr style=\"text-align: right;\">\n",
        "      <th></th>\n",
        "      <th>State</th>\n",
        "      <th>County</th>\n",
        "      <th>NSN</th>\n",
        "      <th>Item Name</th>\n",
        "      <th>Quantity</th>\n",
        "      <th>UI</th>\n",
        "      <th>Acquisition Cost</th>\n",
        "      <th>Ship Date</th>\n",
        "    </tr>\n",
        "  </thead>\n",
        "  <tbody>\n",
        "    <tr>\n",
        "      <th>count</th>\n",
        "      <td> 243492</td>\n",
        "      <td>      243422</td>\n",
        "      <td>           243309</td>\n",
        "      <td>                239658</td>\n",
        "      <td> 243492.000000</td>\n",
        "      <td> 243491</td>\n",
        "      <td>   243492.000000</td>\n",
        "      <td>              243492</td>\n",
        "    </tr>\n",
        "    <tr>\n",
        "      <th>unique</th>\n",
        "      <td>     54</td>\n",
        "      <td>        1577</td>\n",
        "      <td>            30706</td>\n",
        "      <td>                 18202</td>\n",
        "      <td>           NaN</td>\n",
        "      <td>    107</td>\n",
        "      <td>             NaN</td>\n",
        "      <td>                2870</td>\n",
        "    </tr>\n",
        "    <tr>\n",
        "      <th>top</th>\n",
        "      <td>     CA</td>\n",
        "      <td> LOS ANGELES</td>\n",
        "      <td> 1005-00-073-9421</td>\n",
        "      <td> RIFLE,5.56 MILLIMETER</td>\n",
        "      <td>           NaN</td>\n",
        "      <td>   Each</td>\n",
        "      <td>             NaN</td>\n",
        "      <td> 2012-04-20 00:00:00</td>\n",
        "    </tr>\n",
        "    <tr>\n",
        "      <th>freq</th>\n",
        "      <td>  25379</td>\n",
        "      <td>        7326</td>\n",
        "      <td>            43180</td>\n",
        "      <td>                 61548</td>\n",
        "      <td>           NaN</td>\n",
        "      <td> 220148</td>\n",
        "      <td>             NaN</td>\n",
        "      <td>                2942</td>\n",
        "    </tr>\n",
        "    <tr>\n",
        "      <th>first</th>\n",
        "      <td>    NaN</td>\n",
        "      <td>         NaN</td>\n",
        "      <td>              NaN</td>\n",
        "      <td>                   NaN</td>\n",
        "      <td>           NaN</td>\n",
        "      <td>    NaN</td>\n",
        "      <td>             NaN</td>\n",
        "      <td> 2006-01-06 00:00:00</td>\n",
        "    </tr>\n",
        "    <tr>\n",
        "      <th>last</th>\n",
        "      <td>    NaN</td>\n",
        "      <td>         NaN</td>\n",
        "      <td>              NaN</td>\n",
        "      <td>                   NaN</td>\n",
        "      <td>           NaN</td>\n",
        "      <td>    NaN</td>\n",
        "      <td>             NaN</td>\n",
        "      <td> 2014-09-09 00:00:00</td>\n",
        "    </tr>\n",
        "    <tr>\n",
        "      <th>mean</th>\n",
        "      <td>    NaN</td>\n",
        "      <td>         NaN</td>\n",
        "      <td>              NaN</td>\n",
        "      <td>                   NaN</td>\n",
        "      <td>     11.289784</td>\n",
        "      <td>    NaN</td>\n",
        "      <td>     6181.218025</td>\n",
        "      <td>                 NaN</td>\n",
        "    </tr>\n",
        "    <tr>\n",
        "      <th>std</th>\n",
        "      <td>    NaN</td>\n",
        "      <td>         NaN</td>\n",
        "      <td>              NaN</td>\n",
        "      <td>                   NaN</td>\n",
        "      <td>    242.904563</td>\n",
        "      <td>    NaN</td>\n",
        "      <td>   115278.044069</td>\n",
        "      <td>                 NaN</td>\n",
        "    </tr>\n",
        "    <tr>\n",
        "      <th>min</th>\n",
        "      <td>    NaN</td>\n",
        "      <td>         NaN</td>\n",
        "      <td>              NaN</td>\n",
        "      <td>                   NaN</td>\n",
        "      <td>      1.000000</td>\n",
        "      <td>    NaN</td>\n",
        "      <td>        0.000000</td>\n",
        "      <td>                 NaN</td>\n",
        "    </tr>\n",
        "    <tr>\n",
        "      <th>25%</th>\n",
        "      <td>    NaN</td>\n",
        "      <td>         NaN</td>\n",
        "      <td>              NaN</td>\n",
        "      <td>                   NaN</td>\n",
        "      <td>      1.000000</td>\n",
        "      <td>    NaN</td>\n",
        "      <td>       60.450000</td>\n",
        "      <td>                 NaN</td>\n",
        "    </tr>\n",
        "    <tr>\n",
        "      <th>50%</th>\n",
        "      <td>    NaN</td>\n",
        "      <td>         NaN</td>\n",
        "      <td>              NaN</td>\n",
        "      <td>                   NaN</td>\n",
        "      <td>      1.000000</td>\n",
        "      <td>    NaN</td>\n",
        "      <td>      200.000000</td>\n",
        "      <td>                 NaN</td>\n",
        "    </tr>\n",
        "    <tr>\n",
        "      <th>75%</th>\n",
        "      <td>    NaN</td>\n",
        "      <td>         NaN</td>\n",
        "      <td>              NaN</td>\n",
        "      <td>                   NaN</td>\n",
        "      <td>      4.000000</td>\n",
        "      <td>    NaN</td>\n",
        "      <td>      499.000000</td>\n",
        "      <td>                 NaN</td>\n",
        "    </tr>\n",
        "    <tr>\n",
        "      <th>max</th>\n",
        "      <td>    NaN</td>\n",
        "      <td>         NaN</td>\n",
        "      <td>              NaN</td>\n",
        "      <td>                   NaN</td>\n",
        "      <td>  91000.000000</td>\n",
        "      <td>    NaN</td>\n",
        "      <td> 18000000.000000</td>\n",
        "      <td>                 NaN</td>\n",
        "    </tr>\n",
        "  </tbody>\n",
        "</table>\n",
        "</div>"
       ],
       "metadata": {},
       "output_type": "pyout",
       "prompt_number": 42,
       "text": [
        "         State       County               NSN              Item Name  \\\n",
        "count   243492       243422            243309                 239658   \n",
        "unique      54         1577             30706                  18202   \n",
        "top         CA  LOS ANGELES  1005-00-073-9421  RIFLE,5.56 MILLIMETER   \n",
        "freq     25379         7326             43180                  61548   \n",
        "first      NaN          NaN               NaN                    NaN   \n",
        "last       NaN          NaN               NaN                    NaN   \n",
        "mean       NaN          NaN               NaN                    NaN   \n",
        "std        NaN          NaN               NaN                    NaN   \n",
        "min        NaN          NaN               NaN                    NaN   \n",
        "25%        NaN          NaN               NaN                    NaN   \n",
        "50%        NaN          NaN               NaN                    NaN   \n",
        "75%        NaN          NaN               NaN                    NaN   \n",
        "max        NaN          NaN               NaN                    NaN   \n",
        "\n",
        "             Quantity      UI  Acquisition Cost            Ship Date  \n",
        "count   243492.000000  243491     243492.000000               243492  \n",
        "unique            NaN     107               NaN                 2870  \n",
        "top               NaN    Each               NaN  2012-04-20 00:00:00  \n",
        "freq              NaN  220148               NaN                 2942  \n",
        "first             NaN     NaN               NaN  2006-01-06 00:00:00  \n",
        "last              NaN     NaN               NaN  2014-09-09 00:00:00  \n",
        "mean        11.289784     NaN       6181.218025                  NaN  \n",
        "std        242.904563     NaN     115278.044069                  NaN  \n",
        "min          1.000000     NaN          0.000000                  NaN  \n",
        "25%          1.000000     NaN         60.450000                  NaN  \n",
        "50%          1.000000     NaN        200.000000                  NaN  \n",
        "75%          4.000000     NaN        499.000000                  NaN  \n",
        "max      91000.000000     NaN   18000000.000000                  NaN  "
       ]
      }
     ],
     "prompt_number": 42
    },
    {
     "cell_type": "markdown",
     "metadata": {},
     "source": [
      "One immediate problem can be seen: there aren't 54 states."
     ]
    },
    {
     "cell_type": "heading",
     "level": 3,
     "metadata": {},
     "source": [
      "Checking State Data"
     ]
    },
    {
     "cell_type": "markdown",
     "metadata": {},
     "source": [
      "First lets correct the state codes (if we need to)."
     ]
    },
    {
     "cell_type": "code",
     "collapsed": false,
     "input": [
      "# Get the unique state codes from the arms sales file.\n",
      "uniqueStates = pd.unique(df.loc[:, 'State'])\n",
      "uniqueStates = pd.DataFrame(uniqueStates, columns=['Code'])\n",
      "uniqueStates.head()"
     ],
     "language": "python",
     "metadata": {},
     "outputs": [
      {
       "html": [
        "<div style=\"max-height:1000px;max-width:1500px;overflow:auto;\">\n",
        "<table border=\"1\" class=\"dataframe\">\n",
        "  <thead>\n",
        "    <tr style=\"text-align: right;\">\n",
        "      <th></th>\n",
        "      <th>Code</th>\n",
        "    </tr>\n",
        "  </thead>\n",
        "  <tbody>\n",
        "    <tr>\n",
        "      <th>0</th>\n",
        "      <td> AK</td>\n",
        "    </tr>\n",
        "    <tr>\n",
        "      <th>1</th>\n",
        "      <td> AL</td>\n",
        "    </tr>\n",
        "    <tr>\n",
        "      <th>2</th>\n",
        "      <td> AR</td>\n",
        "    </tr>\n",
        "    <tr>\n",
        "      <th>3</th>\n",
        "      <td> AZ</td>\n",
        "    </tr>\n",
        "    <tr>\n",
        "      <th>4</th>\n",
        "      <td> CA</td>\n",
        "    </tr>\n",
        "  </tbody>\n",
        "</table>\n",
        "</div>"
       ],
       "metadata": {},
       "output_type": "pyout",
       "prompt_number": 43,
       "text": [
        "  Code\n",
        "0   AK\n",
        "1   AL\n",
        "2   AR\n",
        "3   AZ\n",
        "4   CA"
       ]
      }
     ],
     "prompt_number": 43
    },
    {
     "cell_type": "code",
     "collapsed": false,
     "input": [
      "# Get the valid codes from a list of valid state abbreviations.\n",
      "validStates = pd.read_csv('StateCodes.tsv', sep='\\t', header=None, names=['State', 'Code'])\n",
      "validStates.head()"
     ],
     "language": "python",
     "metadata": {},
     "outputs": [
      {
       "html": [
        "<div style=\"max-height:1000px;max-width:1500px;overflow:auto;\">\n",
        "<table border=\"1\" class=\"dataframe\">\n",
        "  <thead>\n",
        "    <tr style=\"text-align: right;\">\n",
        "      <th></th>\n",
        "      <th>State</th>\n",
        "      <th>Code</th>\n",
        "    </tr>\n",
        "  </thead>\n",
        "  <tbody>\n",
        "    <tr>\n",
        "      <th>0</th>\n",
        "      <td>    Alabama</td>\n",
        "      <td> AL</td>\n",
        "    </tr>\n",
        "    <tr>\n",
        "      <th>1</th>\n",
        "      <td>     Alaska</td>\n",
        "      <td> AK</td>\n",
        "    </tr>\n",
        "    <tr>\n",
        "      <th>2</th>\n",
        "      <td>    Arizona</td>\n",
        "      <td> AZ</td>\n",
        "    </tr>\n",
        "    <tr>\n",
        "      <th>3</th>\n",
        "      <td>   Arkansas</td>\n",
        "      <td> AR</td>\n",
        "    </tr>\n",
        "    <tr>\n",
        "      <th>4</th>\n",
        "      <td> California</td>\n",
        "      <td> CA</td>\n",
        "    </tr>\n",
        "  </tbody>\n",
        "</table>\n",
        "</div>"
       ],
       "metadata": {},
       "output_type": "pyout",
       "prompt_number": 44,
       "text": [
        "        State Code\n",
        "0     Alabama   AL\n",
        "1      Alaska   AK\n",
        "2     Arizona   AZ\n",
        "3    Arkansas   AR\n",
        "4  California   CA"
       ]
      }
     ],
     "prompt_number": 44
    },
    {
     "cell_type": "code",
     "collapsed": false,
     "input": [
      "# Get the codes of the states that are not in the 50. The ~ inverts the boolea array.\n",
      "invalidStates = uniqueStates[~uniqueStates.loc[:, 'Code'].isin(validStates.loc[:, 'Code'])]\n",
      "invalidStates"
     ],
     "language": "python",
     "metadata": {},
     "outputs": [
      {
       "html": [
        "<div style=\"max-height:1000px;max-width:1500px;overflow:auto;\">\n",
        "<table border=\"1\" class=\"dataframe\">\n",
        "  <thead>\n",
        "    <tr style=\"text-align: right;\">\n",
        "      <th></th>\n",
        "      <th>Code</th>\n",
        "    </tr>\n",
        "  </thead>\n",
        "  <tbody>\n",
        "    <tr>\n",
        "      <th>7 </th>\n",
        "      <td> DC</td>\n",
        "    </tr>\n",
        "    <tr>\n",
        "      <th>11</th>\n",
        "      <td> GU</td>\n",
        "    </tr>\n",
        "    <tr>\n",
        "      <th>40</th>\n",
        "      <td> PR</td>\n",
        "    </tr>\n",
        "    <tr>\n",
        "      <th>48</th>\n",
        "      <td> VI</td>\n",
        "    </tr>\n",
        "  </tbody>\n",
        "</table>\n",
        "</div>"
       ],
       "metadata": {},
       "output_type": "pyout",
       "prompt_number": 45,
       "text": [
        "   Code\n",
        "7    DC\n",
        "11   GU\n",
        "40   PR\n",
        "48   VI"
       ]
      }
     ],
     "prompt_number": 45
    },
    {
     "cell_type": "markdown",
     "metadata": {},
     "source": [
      "<p>We can see that the codes of states not in the usual 50 are:</p>\n",
      "<ul>\n",
      "    <li>DC - District of Columbia</li>\n",
      "    <li>GU - Guam</li>\n",
      "    <li>PR - Puerto Rico</li>\n",
      "    <li>VI - Virgin Islands</li>\n",
      "</ul>\n",
      "<p>All codes are perfectly valid for US territories, but may need to be discounted for some analyses (e.g. mapping over the contiguous US).</p>"
     ]
    },
    {
     "cell_type": "markdown",
     "metadata": {},
     "source": [
      "Now we'll augment the dataframe with the state that each code corresponds to."
     ]
    },
    {
     "cell_type": "code",
     "collapsed": false,
     "input": [
      "df.rename(columns={'State': 'TerritoryCode'}, inplace=True)  # Rename the column containing the abbreviation of the 'state'."
     ],
     "language": "python",
     "metadata": {},
     "outputs": [],
     "prompt_number": 46
    },
    {
     "cell_type": "markdown",
     "metadata": {},
     "source": [
      "The conversion of codes to state names can be performed using <a href=\"http://pandas.pydata.org/pandas-docs/stable/generated/pandas.Series.map.html#pandas.Series.map\">Series.map</a>. Series.map acts elementwise, and can take either a function, dict or series as input. Assuming we have a dictionary mapping territory codes to names, we could generate the column of territory names using df.loc[:, 'TerritoryCode'].map(lambda x : conversionDict[x]) or df.loc[:, 'TerritoryCode'].map(conversionDict). However, as we've already read in the file of state names into a dataframe, we might as well use Series.map's ability to take a series as input."
     ]
    },
    {
     "cell_type": "code",
     "collapsed": false,
     "input": [
      "# Add the four territories that are not states in their own right.\n",
      "territoriesToAdd = [{'Code' : 'DC', 'State' : 'Washington DC'},\n",
      "                    {'Code' : 'GU', 'State' : 'Guam'},\n",
      "                    {'Code' : 'PR', 'State' : 'Puerto Rico'},\n",
      "                    {'Code' : 'VI', 'State' : 'Virgin Islands'}]\n",
      "validStates = validStates.append(territoriesToAdd, ignore_index=True)  # Adding rows using a list of dicts will cause the new rows to start\n",
      "                                                                       # with index 0, and therefore gives you duplicate indices.\n",
      "                                                                       # Using ignore_index=True prevents this.\n",
      "print(validStates.tail())\n",
      "\n",
      "# Convert the index of the validStates dataframe to be the territory codes, this is necessary for the mapping to work.\n",
      "territoryMapping = validStates.set_index('Code')\n",
      "territoryMapping.index.name = None  # Remove the name of the index.\n",
      "territoryMapping = territoryMapping.loc[:, 'State']  # Convert the territory mapping to a series to work with Series.map.\n",
      "\n",
      "# Create the new series by mapping codes to territories.\n",
      "territoryNames = df.loc[:, 'TerritoryCode'].map(territoryMapping)\n",
      "\n",
      "# Add the new series to the dataframe.\n",
      "df.insert(0, 'TerritoryName', territoryNames)\n",
      "df.head()"
     ],
     "language": "python",
     "metadata": {},
     "outputs": [
      {
       "output_type": "stream",
       "stream": "stdout",
       "text": [
        "             State Code\n",
        "49         Wyoming   WY\n",
        "50   Washington DC   DC\n",
        "51            Guam   GU\n",
        "52     Puerto Rico   PR\n",
        "53  Virgin Islands   VI\n"
       ]
      },
      {
       "html": [
        "<div style=\"max-height:1000px;max-width:1500px;overflow:auto;\">\n",
        "<table border=\"1\" class=\"dataframe\">\n",
        "  <thead>\n",
        "    <tr style=\"text-align: right;\">\n",
        "      <th></th>\n",
        "      <th>TerritoryName</th>\n",
        "      <th>TerritoryCode</th>\n",
        "      <th>County</th>\n",
        "      <th>NSN</th>\n",
        "      <th>Item Name</th>\n",
        "      <th>Quantity</th>\n",
        "      <th>UI</th>\n",
        "      <th>Acquisition Cost</th>\n",
        "      <th>Ship Date</th>\n",
        "    </tr>\n",
        "  </thead>\n",
        "  <tbody>\n",
        "    <tr>\n",
        "      <th>0</th>\n",
        "      <td> Alaska</td>\n",
        "      <td> AK</td>\n",
        "      <td> ANCHORAGE</td>\n",
        "      <td> 1005-00-073-9421</td>\n",
        "      <td> RIFLE,5.56 MILLIMETER</td>\n",
        "      <td> 1</td>\n",
        "      <td> Each</td>\n",
        "      <td> 499</td>\n",
        "      <td>2012-08-30</td>\n",
        "    </tr>\n",
        "    <tr>\n",
        "      <th>1</th>\n",
        "      <td> Alaska</td>\n",
        "      <td> AK</td>\n",
        "      <td> ANCHORAGE</td>\n",
        "      <td> 1005-00-073-9421</td>\n",
        "      <td> RIFLE,5.56 MILLIMETER</td>\n",
        "      <td> 1</td>\n",
        "      <td> Each</td>\n",
        "      <td> 499</td>\n",
        "      <td>2012-08-30</td>\n",
        "    </tr>\n",
        "    <tr>\n",
        "      <th>2</th>\n",
        "      <td> Alaska</td>\n",
        "      <td> AK</td>\n",
        "      <td> ANCHORAGE</td>\n",
        "      <td> 1005-00-073-9421</td>\n",
        "      <td> RIFLE,5.56 MILLIMETER</td>\n",
        "      <td> 1</td>\n",
        "      <td> Each</td>\n",
        "      <td> 499</td>\n",
        "      <td>2012-08-30</td>\n",
        "    </tr>\n",
        "    <tr>\n",
        "      <th>3</th>\n",
        "      <td> Alaska</td>\n",
        "      <td> AK</td>\n",
        "      <td> ANCHORAGE</td>\n",
        "      <td> 1005-00-073-9421</td>\n",
        "      <td> RIFLE,5.56 MILLIMETER</td>\n",
        "      <td> 1</td>\n",
        "      <td> Each</td>\n",
        "      <td> 499</td>\n",
        "      <td>2012-08-30</td>\n",
        "    </tr>\n",
        "    <tr>\n",
        "      <th>4</th>\n",
        "      <td> Alaska</td>\n",
        "      <td> AK</td>\n",
        "      <td> ANCHORAGE</td>\n",
        "      <td> 1005-00-073-9421</td>\n",
        "      <td> RIFLE,5.56 MILLIMETER</td>\n",
        "      <td> 1</td>\n",
        "      <td> Each</td>\n",
        "      <td> 499</td>\n",
        "      <td>2012-08-30</td>\n",
        "    </tr>\n",
        "  </tbody>\n",
        "</table>\n",
        "</div>"
       ],
       "metadata": {},
       "output_type": "pyout",
       "prompt_number": 47,
       "text": [
        "  TerritoryName TerritoryCode     County               NSN  \\\n",
        "0        Alaska            AK  ANCHORAGE  1005-00-073-9421   \n",
        "1        Alaska            AK  ANCHORAGE  1005-00-073-9421   \n",
        "2        Alaska            AK  ANCHORAGE  1005-00-073-9421   \n",
        "3        Alaska            AK  ANCHORAGE  1005-00-073-9421   \n",
        "4        Alaska            AK  ANCHORAGE  1005-00-073-9421   \n",
        "\n",
        "               Item Name  Quantity    UI  Acquisition Cost  Ship Date  \n",
        "0  RIFLE,5.56 MILLIMETER         1  Each               499 2012-08-30  \n",
        "1  RIFLE,5.56 MILLIMETER         1  Each               499 2012-08-30  \n",
        "2  RIFLE,5.56 MILLIMETER         1  Each               499 2012-08-30  \n",
        "3  RIFLE,5.56 MILLIMETER         1  Each               499 2012-08-30  \n",
        "4  RIFLE,5.56 MILLIMETER         1  Each               499 2012-08-30  "
       ]
      }
     ],
     "prompt_number": 47
    },
    {
     "cell_type": "heading",
     "level": 3,
     "metadata": {},
     "source": [
      "Checking for NaNs"
     ]
    },
    {
     "cell_type": "code",
     "collapsed": false,
     "input": [
      "columnNaNCounts = len(df) - df.count()\n",
      "print('Total number of data points: {0}\\nTotal number of NaNs {1}.'.format(len(df), columnNaNCounts.sum()))\n",
      "columnNaNCounts"
     ],
     "language": "python",
     "metadata": {},
     "outputs": [
      {
       "output_type": "stream",
       "stream": "stdout",
       "text": [
        "Total number of data points: 243492\n",
        "Total number of NaNs 4088.\n"
       ]
      },
      {
       "metadata": {},
       "output_type": "pyout",
       "prompt_number": 48,
       "text": [
        "TerritoryName          0\n",
        "TerritoryCode          0\n",
        "County                70\n",
        "NSN                  183\n",
        "Item Name           3834\n",
        "Quantity               0\n",
        "UI                     1\n",
        "Acquisition Cost       0\n",
        "Ship Date              0\n",
        "dtype: int64"
       ]
      }
     ],
     "prompt_number": 48
    },
    {
     "cell_type": "markdown",
     "metadata": {},
     "source": [
      "<p>The only columns missing values are the county, National Stock Number (NSN), item name and UI.</p>\n",
      "<p>Let's see how much overlap there is between the rows with missing values.</p>"
     ]
    },
    {
     "cell_type": "code",
     "collapsed": false,
     "input": [
      "rowsWithNaNs = df[df.count(axis=1) < 9]\n",
      "print('Number of rows with NaNs: {0}.\\nNumber of rows with multiple NaNs {1}.'.format(len(rowsWithNaNs), len(df[df.count(axis=1) < 8])))"
     ],
     "language": "python",
     "metadata": {},
     "outputs": [
      {
       "output_type": "stream",
       "stream": "stdout",
       "text": [
        "Number of rows with NaNs: 4083.\n",
        "Number of rows with multiple NaNs 5.\n"
       ]
      }
     ],
     "prompt_number": 49
    },
    {
     "cell_type": "markdown",
     "metadata": {},
     "source": [
      "Let's see if there's any territory or county that is particularly prevelant with the NaNs."
     ]
    },
    {
     "cell_type": "code",
     "collapsed": false,
     "input": [
      "territoriesWithNaNs = rowsWithNaNs.groupby('TerritoryName').size()  # Number of rows with missing data for each territory.\n",
      "territoryOrders = df.groupby('TerritoryName').size()  # Number of orders for each territory.\n",
      "dfNaNs = pd.DataFrame({'Total' : territoryOrders, 'NaNs' : territoriesWithNaNs})\n",
      "dfNaNs.fillna(value=0, inplace=True)  # Some territories have no missing data, so just fill those in with 0s.\n",
      "dfNaNs.loc[:, 'FractionNaN'] = dfNaNs.loc[:, 'NaNs'] / dfNaNs.loc[:, 'Total']  # Add a column recording the fraction of orders with missing data.\n",
      "print(dfNaNs.sort(columns='FractionNaN', ascending=False).head(8))\n",
      "print(dfNaNs.sort(columns='NaNs', ascending=False).head(8))"
     ],
     "language": "python",
     "metadata": {},
     "outputs": [
      {
       "output_type": "stream",
       "stream": "stdout",
       "text": [
        "               NaNs  Total  FractionNaN\n",
        "Delaware        187   3426     0.054583\n",
        "Virginia        186   4264     0.043621\n",
        "Alabama         654  17146     0.038143\n",
        "Washington      152   5067     0.029998\n",
        "Maine            47   1761     0.026689\n",
        "Indiana         232   8982     0.025829\n",
        "Rhode Island     33   1355     0.024354\n",
        "West Virginia    55   2414     0.022784\n",
        "            NaNs  Total  FractionNaN\n",
        "Alabama      654  17146     0.038143\n",
        "Texas        436  19146     0.022772\n",
        "California   344  25379     0.013555\n",
        "Georgia      328  15013     0.021848\n",
        "Ohio         238  15425     0.015429\n",
        "Indiana      232   8982     0.025829\n",
        "Delaware     187   3426     0.054583\n",
        "Virginia     186   4264     0.043621\n"
       ]
      }
     ],
     "prompt_number": 50
    },
    {
     "cell_type": "markdown",
     "metadata": {},
     "source": [
      "<p>For whatever reason, Alabama is particularly bad with having missing data.</p>\n",
      "<p>Now let's remove all rows where the name of the item is unknown, and just remember the fact that some counties are missing.</p>"
     ]
    },
    {
     "cell_type": "code",
     "collapsed": false,
     "input": [
      "df = df.dropna(axis=0, subset=['Item Name'])  # Drop all rows with a NaN in the 'Item Name' column.\n",
      "print('Total number of data points: {0}\\nTotal number of NaNs {1}.'.format(len(df), (len(df) - df.count()).sum()))\n",
      "len(df) - df.count()"
     ],
     "language": "python",
     "metadata": {},
     "outputs": [
      {
       "output_type": "stream",
       "stream": "stdout",
       "text": [
        "Total number of data points: 239658\n",
        "Total number of NaNs 249.\n"
       ]
      },
      {
       "metadata": {},
       "output_type": "pyout",
       "prompt_number": 51,
       "text": [
        "TerritoryName         0\n",
        "TerritoryCode         0\n",
        "County               70\n",
        "NSN                 179\n",
        "Item Name             0\n",
        "Quantity              0\n",
        "UI                    0\n",
        "Acquisition Cost      0\n",
        "Ship Date             0\n",
        "dtype: int64"
       ]
      }
     ],
     "prompt_number": 51
    },
    {
     "cell_type": "heading",
     "level": 3,
     "metadata": {},
     "source": [
      "Checking the UI and Quantity"
     ]
    },
    {
     "cell_type": "markdown",
     "metadata": {},
     "source": [
      "<p>Next, let's look at the values in the UI column, and how they can impact on the quantity.</p>"
     ]
    },
    {
     "cell_type": "code",
     "collapsed": false,
     "input": [
      "groupedUI = df.groupby('UI')\n",
      "print(len(groupedUI))\n",
      "#for name, group in groupedUI:\n",
      "#    print(name)\n",
      "groupedUI.size().head()"
     ],
     "language": "python",
     "metadata": {},
     "outputs": [
      {
       "output_type": "stream",
       "stream": "stdout",
       "text": [
        "106\n"
       ]
      },
      {
       "metadata": {},
       "output_type": "pyout",
       "prompt_number": 52,
       "text": [
        "UI\n",
        "AT             13\n",
        "AY            174\n",
        "Assembly      548\n",
        "Assortment     13\n",
        "BA              3\n",
        "dtype: int64"
       ]
      }
     ],
     "prompt_number": 52
    },
    {
     "cell_type": "markdown",
     "metadata": {},
     "source": [
      "<p>The only particularly interesting UI values are Dozen, Hundred and Thousand, as these have an impact on the quantity.</p>\n",
      "<p>Let's convert rows with these UI values to recording the number of single units sold.</p>"
     ]
    },
    {
     "cell_type": "code",
     "collapsed": false,
     "input": [
      "dozensMask = df.loc[:, 'UI'] == 'Dozen'\n",
      "hundredsMask = df.loc[:, 'UI'] == 'Hundred'\n",
      "thousandsMask = df.loc[:, 'UI'] == 'Thousand'\n",
      "df.loc[dozensMask, 'Quantity'] *= 12\n",
      "df.loc[dozensMask, 'UI'] = 'Units'\n",
      "df.loc[hundredsMask, 'Quantity'] *= 100\n",
      "df.loc[hundredsMask, 'UI'] = 'Units'\n",
      "df.loc[thousandsMask, 'Quantity'] *= 1000\n",
      "df.loc[thousandsMask, 'UI'] = 'Units'"
     ],
     "language": "python",
     "metadata": {},
     "outputs": [],
     "prompt_number": 53
    },
    {
     "cell_type": "heading",
     "level": 3,
     "metadata": {},
     "source": [
      "Checking Item Names"
     ]
    },
    {
     "cell_type": "markdown",
     "metadata": {},
     "source": [
      "some are<br>\n",
      "No Item Name Provided<br>\n",
      "some may be blank or unknown"
     ]
    },
    {
     "cell_type": "heading",
     "level": 3,
     "metadata": {},
     "source": [
      "Checking for Outliers"
     ]
    },
    {
     "cell_type": "markdown",
     "metadata": {},
     "source": [
      "<p>Next, let's examine the cost of purchases to see if there are any obvious errors.</p>"
     ]
    },
    {
     "cell_type": "code",
     "collapsed": false,
     "input": [
      "purchaseAmounts = df.loc[:, 'Acquisition Cost']\n",
      "purchaseAmounts.describe()"
     ],
     "language": "python",
     "metadata": {},
     "outputs": [
      {
       "metadata": {},
       "output_type": "pyout",
       "prompt_number": 56,
       "text": [
        "count      239658.000000\n",
        "mean         6201.817067\n",
        "std        116091.645551\n",
        "min             0.000000\n",
        "25%            60.450000\n",
        "50%           199.000000\n",
        "75%           499.000000\n",
        "max      18000000.000000\n",
        "Name: Acquisition Cost, dtype: float64"
       ]
      }
     ],
     "prompt_number": 56
    },
    {
     "cell_type": "markdown",
     "metadata": {},
     "source": [
      "<p>Right away we can see that there are purchases of $0. Let's see what these are.</p>"
     ]
    },
    {
     "cell_type": "code",
     "collapsed": false,
     "input": [
      "zeroDollarPurchases = purchaseAmounts == 0\n",
      "print('Number of $0 purchases: {0}.'.format(zeroDollarPurchases.sum()))\n",
      "groupedZeroDollar = df.loc[zeroDollarPurchases].groupby('Item Name').size()\n",
      "groupedZeroDollar.sort(ascending=False)\n",
      "groupedZeroDollar.head(10)"
     ],
     "language": "python",
     "metadata": {},
     "outputs": [
      {
       "output_type": "stream",
       "stream": "stdout",
       "text": [
        "Number of $0 purchases: 11319\n"
       ]
      },
      {
       "metadata": {},
       "output_type": "pyout",
       "prompt_number": 72,
       "text": [
        "Item Name\n",
        "OPTICAL SIGHTING AND RANGING EQUIPMENT    326\n",
        "LAPTOP COMPUTER                           245\n",
        "RIFLE,5.56 MILLIMETER                     199\n",
        "NIGHT VISION SIGHT                        182\n",
        "CAMERA, DIGITAL                           167\n",
        "ALL TERRAIN VEHICLE, 4 WHEEL              158\n",
        "FLAT PANEL MONITOR                        151\n",
        "TOOLBOX                                   126\n",
        "REFRIGERATOR                              124\n",
        "RECREATIONAL AND GYMNASTIC EQUIPMENT      121\n",
        "dtype: int64"
       ]
      }
     ],
     "prompt_number": 72
    },
    {
     "cell_type": "markdown",
     "metadata": {},
     "source": [
      "<p>We can see that a large number of rifles have $0 prices.</p>"
     ]
    },
    {
     "cell_type": "code",
     "collapsed": false,
     "input": [
      "freeSmallArms = df.loc[:, 'Item Name'].str.contains('^RIFLE,|^PISTOL,') & zeroDollarPurchases\n",
      "print('Rough number of $0 small arms: {0}.'.format(freeSmallArms.sum()))\n",
      "df[freeSmallArms].groupby('TerritoryName').size().order(ascending=False)"
     ],
     "language": "python",
     "metadata": {},
     "outputs": [
      {
       "output_type": "stream",
       "stream": "stdout",
       "text": [
        "Rough number of $0 small arms: 223.\n"
       ]
      },
      {
       "metadata": {},
       "output_type": "pyout",
       "prompt_number": 95,
       "text": [
        "TerritoryName\n",
        "Alabama          122\n",
        "Arizona           40\n",
        "Arkansas          16\n",
        "Minnesota         14\n",
        "Kansas            12\n",
        "Delaware          10\n",
        "Texas              7\n",
        "Florida            1\n",
        "California         1\n",
        "dtype: int64"
       ]
      }
     ],
     "prompt_number": 95
    },
    {
     "cell_type": "markdown",
     "metadata": {},
     "source": [
      "<p>We'll leave the $0 purchases in there for now, but make sure to remember them when investigating money spent.</p>\n",
      "<p>Now let's take a look at the really large purchases.</p>"
     ]
    },
    {
     "cell_type": "code",
     "collapsed": false,
     "input": [
      "largePurchases = purchaseAmounts >= 100000\n",
      "print('Number of purchases of $100000 or more {0}.'.format(largePurchases.sum()))\n",
      "df.loc[largePurchases].groupby('Item Name').size().order(ascending=False).head(10)"
     ],
     "language": "python",
     "metadata": {},
     "outputs": [
      {
       "output_type": "stream",
       "stream": "stdout",
       "text": [
        "Number of purchases of $100000 or more 2055.\n"
       ]
      },
      {
       "metadata": {},
       "output_type": "pyout",
       "prompt_number": 103,
       "text": [
        "Item Name\n",
        "MINE RESISTANT VEHICLE                                    341\n",
        "TRUCK TRACTOR                                             135\n",
        "TRACTOR,WHEELED,INDUSTRIAL                                120\n",
        "HELICOPTER,UTILITY                                        108\n",
        "ONLY COMPLETE COMBAT/ASSAULT/TACTICAL WHEELED VEHICLES     86\n",
        "HELICOPTER,OBSERVATION                                     85\n",
        "TRUCK,VAN                                                  68\n",
        "MK3MOD0                                                    66\n",
        "TRUCK,WRECKER                                              62\n",
        "CARRIER,PERSONNEL,FULL TRACKED                             52\n",
        "dtype: int64"
       ]
      }
     ],
     "prompt_number": 103
    },
    {
     "cell_type": "markdown",
     "metadata": {},
     "source": [
      "<p>Let's take a look at all those mine resistant vehicles.</p>"
     ]
    },
    {
     "cell_type": "code",
     "collapsed": false,
     "input": [
      "df.loc[df.loc[:, 'Item Name'] == 'MINE RESISTANT VEHICLE'].describe()"
     ],
     "language": "python",
     "metadata": {},
     "outputs": [
      {
       "html": [
        "<div style=\"max-height:1000px;max-width:1500px;overflow:auto;\">\n",
        "<table border=\"1\" class=\"dataframe\">\n",
        "  <thead>\n",
        "    <tr style=\"text-align: right;\">\n",
        "      <th></th>\n",
        "      <th>Quantity</th>\n",
        "      <th>Acquisition Cost</th>\n",
        "    </tr>\n",
        "  </thead>\n",
        "  <tbody>\n",
        "    <tr>\n",
        "      <th>count</th>\n",
        "      <td> 341.000000</td>\n",
        "      <td>     341.000000</td>\n",
        "    </tr>\n",
        "    <tr>\n",
        "      <th>mean</th>\n",
        "      <td>   1.005865</td>\n",
        "      <td>  642634.683284</td>\n",
        "    </tr>\n",
        "    <tr>\n",
        "      <th>std</th>\n",
        "      <td>   0.108306</td>\n",
        "      <td>  130102.127850</td>\n",
        "    </tr>\n",
        "    <tr>\n",
        "      <th>min</th>\n",
        "      <td>   1.000000</td>\n",
        "      <td>  412000.000000</td>\n",
        "    </tr>\n",
        "    <tr>\n",
        "      <th>25%</th>\n",
        "      <td>   1.000000</td>\n",
        "      <td>  658000.000000</td>\n",
        "    </tr>\n",
        "    <tr>\n",
        "      <th>50%</th>\n",
        "      <td>   1.000000</td>\n",
        "      <td>  658000.000000</td>\n",
        "    </tr>\n",
        "    <tr>\n",
        "      <th>75%</th>\n",
        "      <td>   1.000000</td>\n",
        "      <td>  733000.000000</td>\n",
        "    </tr>\n",
        "    <tr>\n",
        "      <th>max</th>\n",
        "      <td>   3.000000</td>\n",
        "      <td> 1309299.000000</td>\n",
        "    </tr>\n",
        "  </tbody>\n",
        "</table>\n",
        "</div>"
       ],
       "metadata": {},
       "output_type": "pyout",
       "prompt_number": 107,
       "text": [
        "         Quantity  Acquisition Cost\n",
        "count  341.000000        341.000000\n",
        "mean     1.005865     642634.683284\n",
        "std      0.108306     130102.127850\n",
        "min      1.000000     412000.000000\n",
        "25%      1.000000     658000.000000\n",
        "50%      1.000000     658000.000000\n",
        "75%      1.000000     733000.000000\n",
        "max      3.000000    1309299.000000"
       ]
      }
     ],
     "prompt_number": 107
    },
    {
     "cell_type": "code",
     "collapsed": false,
     "input": [
      "df.loc[df.loc[:, 'Item Name'] == 'MINE RESISTANT VEHICLE', ['TerritoryName', 'County', 'Quantity', 'UI', 'Acquisition Cost', 'Ship Date']].sort(columns=['Quantity'], ascending=False).head()"
     ],
     "language": "python",
     "metadata": {},
     "outputs": [
      {
       "html": [
        "<div style=\"max-height:1000px;max-width:1500px;overflow:auto;\">\n",
        "<table border=\"1\" class=\"dataframe\">\n",
        "  <thead>\n",
        "    <tr style=\"text-align: right;\">\n",
        "      <th></th>\n",
        "      <th>TerritoryName</th>\n",
        "      <th>County</th>\n",
        "      <th>Quantity</th>\n",
        "      <th>UI</th>\n",
        "      <th>Acquisition Cost</th>\n",
        "      <th>Ship Date</th>\n",
        "    </tr>\n",
        "  </thead>\n",
        "  <tbody>\n",
        "    <tr>\n",
        "      <th>90285 </th>\n",
        "      <td>   Hawaii</td>\n",
        "      <td>  HONOLULU</td>\n",
        "      <td> 3</td>\n",
        "      <td> Each</td>\n",
        "      <td> 412000</td>\n",
        "      <td>2014-03-03 00:00:00</td>\n",
        "    </tr>\n",
        "    <tr>\n",
        "      <th>693   </th>\n",
        "      <td>  Alabama</td>\n",
        "      <td>    BLOUNT</td>\n",
        "      <td> 1</td>\n",
        "      <td> Each</td>\n",
        "      <td> 412000</td>\n",
        "      <td>2013-10-07 00:00:00</td>\n",
        "    </tr>\n",
        "    <tr>\n",
        "      <th>179923</th>\n",
        "      <td>     Ohio</td>\n",
        "      <td>    LORAIN</td>\n",
        "      <td> 1</td>\n",
        "      <td> Each</td>\n",
        "      <td> 733000</td>\n",
        "      <td>2014-04-23 09:44:45</td>\n",
        "    </tr>\n",
        "    <tr>\n",
        "      <th>185265</th>\n",
        "      <td> Oklahoma</td>\n",
        "      <td> CLEVELAND</td>\n",
        "      <td> 1</td>\n",
        "      <td> Each</td>\n",
        "      <td> 733000</td>\n",
        "      <td>2014-02-13 00:00:00</td>\n",
        "    </tr>\n",
        "    <tr>\n",
        "      <th>185193</th>\n",
        "      <td> Oklahoma</td>\n",
        "      <td>  CHEROKEE</td>\n",
        "      <td> 1</td>\n",
        "      <td> Each</td>\n",
        "      <td> 412000</td>\n",
        "      <td>2014-01-30 00:00:00</td>\n",
        "    </tr>\n",
        "  </tbody>\n",
        "</table>\n",
        "</div>"
       ],
       "metadata": {},
       "output_type": "pyout",
       "prompt_number": 119,
       "text": [
        "       TerritoryName     County  Quantity    UI  Acquisition Cost  \\\n",
        "90285         Hawaii   HONOLULU         3  Each            412000   \n",
        "693          Alabama     BLOUNT         1  Each            412000   \n",
        "179923          Ohio     LORAIN         1  Each            733000   \n",
        "185265      Oklahoma  CLEVELAND         1  Each            733000   \n",
        "185193      Oklahoma   CHEROKEE         1  Each            412000   \n",
        "\n",
        "                 Ship Date  \n",
        "90285  2014-03-03 00:00:00  \n",
        "693    2013-10-07 00:00:00  \n",
        "179923 2014-04-23 09:44:45  \n",
        "185265 2014-02-13 00:00:00  \n",
        "185193 2014-01-30 00:00:00  "
       ]
      }
     ],
     "prompt_number": 119
    },
    {
     "cell_type": "markdown",
     "metadata": {},
     "source": [
      "<p>Honolulu bought three mine resistant vehicles in one go... So all in all, \\$1,236,000 of hardware put to good use.</p>\n",
      "<p>Let's look at the most expensive items now.</p>"
     ]
    },
    {
     "cell_type": "code",
     "collapsed": false,
     "input": [
      "df.loc[:, ['TerritoryName', 'County', 'Item Name', 'Quantity', 'UI', 'Acquisition Cost', 'Ship Date']].sort(columns=['Acquisition Cost'], ascending=False).head(20)"
     ],
     "language": "python",
     "metadata": {},
     "outputs": [
      {
       "html": [
        "<div style=\"max-height:1000px;max-width:1500px;overflow:auto;\">\n",
        "<table border=\"1\" class=\"dataframe\">\n",
        "  <thead>\n",
        "    <tr style=\"text-align: right;\">\n",
        "      <th></th>\n",
        "      <th>TerritoryName</th>\n",
        "      <th>County</th>\n",
        "      <th>Item Name</th>\n",
        "      <th>Quantity</th>\n",
        "      <th>UI</th>\n",
        "      <th>Acquisition Cost</th>\n",
        "      <th>Ship Date</th>\n",
        "    </tr>\n",
        "  </thead>\n",
        "  <tbody>\n",
        "    <tr>\n",
        "      <th>65753 </th>\n",
        "      <td>        Florida</td>\n",
        "      <td>       BREVARD</td>\n",
        "      <td>    AIRCRAFT, ROTARY WING</td>\n",
        "      <td> 1</td>\n",
        "      <td> Each</td>\n",
        "      <td> 18000000</td>\n",
        "      <td>2011-03-09 00:00:00</td>\n",
        "    </tr>\n",
        "    <tr>\n",
        "      <th>65754 </th>\n",
        "      <td>        Florida</td>\n",
        "      <td>       BREVARD</td>\n",
        "      <td>    AIRCRAFT, ROTARY WING</td>\n",
        "      <td> 1</td>\n",
        "      <td> Each</td>\n",
        "      <td> 18000000</td>\n",
        "      <td>2011-03-09 00:00:00</td>\n",
        "    </tr>\n",
        "    <tr>\n",
        "      <th>65755 </th>\n",
        "      <td>        Florida</td>\n",
        "      <td>       BREVARD</td>\n",
        "      <td>    AIRCRAFT, ROTARY WING</td>\n",
        "      <td> 1</td>\n",
        "      <td> Each</td>\n",
        "      <td> 18000000</td>\n",
        "      <td>2011-04-21 00:00:00</td>\n",
        "    </tr>\n",
        "    <tr>\n",
        "      <th>65760 </th>\n",
        "      <td>        Florida</td>\n",
        "      <td>       BREVARD</td>\n",
        "      <td>    AIRCRAFT, ROTARY WING</td>\n",
        "      <td> 1</td>\n",
        "      <td> Each</td>\n",
        "      <td> 18000000</td>\n",
        "      <td>2011-04-27 00:00:00</td>\n",
        "    </tr>\n",
        "    <tr>\n",
        "      <th>65759 </th>\n",
        "      <td>        Florida</td>\n",
        "      <td>       BREVARD</td>\n",
        "      <td>    AIRCRAFT, ROTARY WING</td>\n",
        "      <td> 1</td>\n",
        "      <td> Each</td>\n",
        "      <td> 18000000</td>\n",
        "      <td>2011-04-27 00:00:00</td>\n",
        "    </tr>\n",
        "    <tr>\n",
        "      <th>65756 </th>\n",
        "      <td>        Florida</td>\n",
        "      <td>       BREVARD</td>\n",
        "      <td>    AIRCRAFT, ROTARY WING</td>\n",
        "      <td> 1</td>\n",
        "      <td> Each</td>\n",
        "      <td> 18000000</td>\n",
        "      <td>2011-04-21 00:00:00</td>\n",
        "    </tr>\n",
        "    <tr>\n",
        "      <th>65758 </th>\n",
        "      <td>        Florida</td>\n",
        "      <td>       BREVARD</td>\n",
        "      <td>    AIRCRAFT, ROTARY WING</td>\n",
        "      <td> 1</td>\n",
        "      <td> Each</td>\n",
        "      <td> 18000000</td>\n",
        "      <td>2011-04-21 00:00:00</td>\n",
        "    </tr>\n",
        "    <tr>\n",
        "      <th>65757 </th>\n",
        "      <td>        Florida</td>\n",
        "      <td>       BREVARD</td>\n",
        "      <td>    AIRCRAFT, ROTARY WING</td>\n",
        "      <td> 1</td>\n",
        "      <td> Each</td>\n",
        "      <td> 18000000</td>\n",
        "      <td>2011-04-21 00:00:00</td>\n",
        "    </tr>\n",
        "    <tr>\n",
        "      <th>48074 </th>\n",
        "      <td>     California</td>\n",
        "      <td> SANTA BARBARA</td>\n",
        "      <td>    AIRCRAFT, ROTARY WING</td>\n",
        "      <td> 1</td>\n",
        "      <td> Each</td>\n",
        "      <td>  6500000</td>\n",
        "      <td>2009-07-06 00:00:00</td>\n",
        "    </tr>\n",
        "    <tr>\n",
        "      <th>212825</th>\n",
        "      <td>          Texas</td>\n",
        "      <td>        HARRIS</td>\n",
        "      <td>     AIRCRAFT, FIXED WING</td>\n",
        "      <td> 1</td>\n",
        "      <td> Each</td>\n",
        "      <td>  5390000</td>\n",
        "      <td>2010-03-20 00:00:00</td>\n",
        "    </tr>\n",
        "    <tr>\n",
        "      <th>19524 </th>\n",
        "      <td>       Arkansas</td>\n",
        "      <td>      RANDOLPH</td>\n",
        "      <td> AIRPLANE,CARGO-TRANSPORT</td>\n",
        "      <td> 1</td>\n",
        "      <td> Each</td>\n",
        "      <td>  5340000</td>\n",
        "      <td>2014-03-03 08:51:45</td>\n",
        "    </tr>\n",
        "    <tr>\n",
        "      <th>196617</th>\n",
        "      <td> South Carolina</td>\n",
        "      <td>      RICHLAND</td>\n",
        "      <td> AIRPLANE,CARGO-TRANSPORT</td>\n",
        "      <td> 1</td>\n",
        "      <td> Each</td>\n",
        "      <td>  5340000</td>\n",
        "      <td>2013-06-17 00:00:00</td>\n",
        "    </tr>\n",
        "    <tr>\n",
        "      <th>196616</th>\n",
        "      <td> South Carolina</td>\n",
        "      <td>      RICHLAND</td>\n",
        "      <td> AIRPLANE,CARGO-TRANSPORT</td>\n",
        "      <td> 1</td>\n",
        "      <td> Each</td>\n",
        "      <td>  5340000</td>\n",
        "      <td>2013-06-17 00:00:00</td>\n",
        "    </tr>\n",
        "    <tr>\n",
        "      <th>234578</th>\n",
        "      <td>     Washington</td>\n",
        "      <td>         MASON</td>\n",
        "      <td>      CUTTER,AREA COMMAND</td>\n",
        "      <td> 1</td>\n",
        "      <td> Each</td>\n",
        "      <td>  5110617</td>\n",
        "      <td>2009-05-02 00:00:00</td>\n",
        "    </tr>\n",
        "    <tr>\n",
        "      <th>196755</th>\n",
        "      <td> South Carolina</td>\n",
        "      <td>   SPARTANBURG</td>\n",
        "      <td>      COMMUN,EQUIP,SOMS-B</td>\n",
        "      <td> 1</td>\n",
        "      <td> Each</td>\n",
        "      <td>  5000000</td>\n",
        "      <td>2011-02-23 00:00:00</td>\n",
        "    </tr>\n",
        "    <tr>\n",
        "      <th>194234</th>\n",
        "      <td> South Carolina</td>\n",
        "      <td>    DARLINGTON</td>\n",
        "      <td>      COMMUN,EQUIP,SOMS-B</td>\n",
        "      <td> 1</td>\n",
        "      <td> Each</td>\n",
        "      <td>  5000000</td>\n",
        "      <td>2011-02-23 00:00:00</td>\n",
        "    </tr>\n",
        "    <tr>\n",
        "      <th>65678 </th>\n",
        "      <td>        Florida</td>\n",
        "      <td>       BREVARD</td>\n",
        "      <td>     AIRCRAFT, FIXED WING</td>\n",
        "      <td> 1</td>\n",
        "      <td> Each</td>\n",
        "      <td>  4317067</td>\n",
        "      <td>2013-12-18 06:36:03</td>\n",
        "    </tr>\n",
        "    <tr>\n",
        "      <th>133561</th>\n",
        "      <td>       Michigan</td>\n",
        "      <td>       CLINTON</td>\n",
        "      <td>     AIRCRAFT, FIXED WING</td>\n",
        "      <td> 1</td>\n",
        "      <td> Each</td>\n",
        "      <td>  3100000</td>\n",
        "      <td>2013-09-24 13:32:14</td>\n",
        "    </tr>\n",
        "    <tr>\n",
        "      <th>116673</th>\n",
        "      <td>       Kentucky</td>\n",
        "      <td>      FRANKLIN</td>\n",
        "      <td>     AIRCRAFT, FIXED WING</td>\n",
        "      <td> 1</td>\n",
        "      <td> Each</td>\n",
        "      <td>  3100000</td>\n",
        "      <td>2013-09-16 12:57:28</td>\n",
        "    </tr>\n",
        "    <tr>\n",
        "      <th>119632</th>\n",
        "      <td>       Kentucky</td>\n",
        "      <td>        MONROE</td>\n",
        "      <td>             REFRIGERATOR</td>\n",
        "      <td> 1</td>\n",
        "      <td> Each</td>\n",
        "      <td>  2394800</td>\n",
        "      <td>2012-01-12 00:00:00</td>\n",
        "    </tr>\n",
        "  </tbody>\n",
        "</table>\n",
        "</div>"
       ],
       "metadata": {},
       "output_type": "pyout",
       "prompt_number": 121,
       "text": [
        "         TerritoryName         County                 Item Name  Quantity  \\\n",
        "65753          Florida        BREVARD     AIRCRAFT, ROTARY WING         1   \n",
        "65754          Florida        BREVARD     AIRCRAFT, ROTARY WING         1   \n",
        "65755          Florida        BREVARD     AIRCRAFT, ROTARY WING         1   \n",
        "65760          Florida        BREVARD     AIRCRAFT, ROTARY WING         1   \n",
        "65759          Florida        BREVARD     AIRCRAFT, ROTARY WING         1   \n",
        "65756          Florida        BREVARD     AIRCRAFT, ROTARY WING         1   \n",
        "65758          Florida        BREVARD     AIRCRAFT, ROTARY WING         1   \n",
        "65757          Florida        BREVARD     AIRCRAFT, ROTARY WING         1   \n",
        "48074       California  SANTA BARBARA     AIRCRAFT, ROTARY WING         1   \n",
        "212825           Texas         HARRIS      AIRCRAFT, FIXED WING         1   \n",
        "19524         Arkansas       RANDOLPH  AIRPLANE,CARGO-TRANSPORT         1   \n",
        "196617  South Carolina       RICHLAND  AIRPLANE,CARGO-TRANSPORT         1   \n",
        "196616  South Carolina       RICHLAND  AIRPLANE,CARGO-TRANSPORT         1   \n",
        "234578      Washington          MASON       CUTTER,AREA COMMAND         1   \n",
        "196755  South Carolina    SPARTANBURG       COMMUN,EQUIP,SOMS-B         1   \n",
        "194234  South Carolina     DARLINGTON       COMMUN,EQUIP,SOMS-B         1   \n",
        "65678          Florida        BREVARD      AIRCRAFT, FIXED WING         1   \n",
        "133561        Michigan        CLINTON      AIRCRAFT, FIXED WING         1   \n",
        "116673        Kentucky       FRANKLIN      AIRCRAFT, FIXED WING         1   \n",
        "119632        Kentucky         MONROE              REFRIGERATOR         1   \n",
        "\n",
        "          UI  Acquisition Cost           Ship Date  \n",
        "65753   Each          18000000 2011-03-09 00:00:00  \n",
        "65754   Each          18000000 2011-03-09 00:00:00  \n",
        "65755   Each          18000000 2011-04-21 00:00:00  \n",
        "65760   Each          18000000 2011-04-27 00:00:00  \n",
        "65759   Each          18000000 2011-04-27 00:00:00  \n",
        "65756   Each          18000000 2011-04-21 00:00:00  \n",
        "65758   Each          18000000 2011-04-21 00:00:00  \n",
        "65757   Each          18000000 2011-04-21 00:00:00  \n",
        "48074   Each           6500000 2009-07-06 00:00:00  \n",
        "212825  Each           5390000 2010-03-20 00:00:00  \n",
        "19524   Each           5340000 2014-03-03 08:51:45  \n",
        "196617  Each           5340000 2013-06-17 00:00:00  \n",
        "196616  Each           5340000 2013-06-17 00:00:00  \n",
        "234578  Each           5110617 2009-05-02 00:00:00  \n",
        "196755  Each           5000000 2011-02-23 00:00:00  \n",
        "194234  Each           5000000 2011-02-23 00:00:00  \n",
        "65678   Each           4317067 2013-12-18 06:36:03  \n",
        "133561  Each           3100000 2013-09-24 13:32:14  \n",
        "116673  Each           3100000 2013-09-16 12:57:28  \n",
        "119632  Each           2394800 2012-01-12 00:00:00  "
       ]
      }
     ],
     "prompt_number": 121
    },
    {
     "cell_type": "markdown",
     "metadata": {},
     "source": [
      "<p>While 8 \\$18,000,000 aircraft may seem excessive, a \\$2,394,800 refrigerator is particularly interesting.</p>"
     ]
    },
    {
     "cell_type": "heading",
     "level": 1,
     "metadata": {},
     "source": [
      "Exploration"
     ]
    },
    {
     "cell_type": "heading",
     "level": 3,
     "metadata": {},
     "source": [
      "Purchases by State"
     ]
    },
    {
     "cell_type": "markdown",
     "metadata": {},
     "source": [
      "Number, overall cost, compared to population, compared to police force size.<br>\n",
      "Number of unique counties purchasing stuff (compared to number of counties)."
     ]
    },
    {
     "cell_type": "heading",
     "level": 3,
     "metadata": {},
     "source": [
      "Type of Purchase"
     ]
    },
    {
     "cell_type": "markdown",
     "metadata": {},
     "source": [
      "Different purchase counts for types of items, compared to state as well."
     ]
    },
    {
     "cell_type": "heading",
     "level": 3,
     "metadata": {},
     "source": [
      "Dates of Purchase"
     ]
    },
    {
     "cell_type": "markdown",
     "metadata": {},
     "source": [
      "Look at how often, how many times, purchases were made by different territories<br>\n",
      "Look at how size of purchase varies by territory"
     ]
    },
    {
     "cell_type": "heading",
     "level": 3,
     "metadata": {},
     "source": [
      "Bizarre Purchases"
     ]
    },
    {
     "cell_type": "markdown",
     "metadata": {},
     "source": [
      "Lots of helicopters/aircraft/expensive trucks for single counties<br>\n",
      "grenade launchers"
     ]
    }
   ],
   "metadata": {}
  }
 ]
}