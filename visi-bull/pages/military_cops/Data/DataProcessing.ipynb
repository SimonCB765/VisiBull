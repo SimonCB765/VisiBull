{
 "metadata": {
  "name": "",
  "signature": "sha256:6e5028e521e3d46f9257edb84122df43da279f851923718f26c966b71a1813ff"
 },
 "nbformat": 3,
 "nbformat_minor": 0,
 "worksheets": [
  {
   "cells": [
    {
     "cell_type": "heading",
     "level": 1,
     "metadata": {},
     "source": [
      "Extract And Process Data"
     ]
    },
    {
     "cell_type": "markdown",
     "metadata": {},
     "source": [
      "First download the data from https://github.com/TheUpshot/Military-Surplus-Gear, and save it into the same directory as this noteboook."
     ]
    }
   ],
   "metadata": {}
  }
 ]
}